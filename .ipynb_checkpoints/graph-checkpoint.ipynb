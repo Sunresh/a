{
 "cells": [
  {
   "cell_type": "code",
   "metadata": {
    "ExecuteTime": {
     "end_time": "2024-10-10T05:13:12.528242Z",
     "start_time": "2024-10-10T05:13:10.192367Z"
    }
   },
   "source": [
    "import pandas as pd\n",
    "import matplotlib.pyplot as plt\n",
    "\n",
    "# Define the double_backslashes function\n",
    "def double_backslashes(input_string):\n",
    "    return input_string.replace('\\\\', '\\\\\\\\')\n",
    "\n",
    "# Define the CSVPlotter class\n",
    "class CSVPlotter:\n",
    "    def __init__(self, file_path):\n",
    "        self.file_path = file_path\n",
    "        self.data = None\n",
    "\n",
    "    def read_csv(self):\n",
    "        try:\n",
    "            self.data = pd.read_csv(self.file_path)\n",
    "        except FileNotFoundError:\n",
    "            print(\"File not found. Please provide a valid file path.\")\n",
    "    \n",
    "    def plot_data(self, x_column, y_columns, plot_type='line', title='', x_label='', y_label='', font_size=24):\n",
    "        if self.data is None:\n",
    "            self.read_csv()\n",
    "\n",
    "        self.data[x_column] = (self.data[x_column]) / 10\n",
    "        fig, axs = plt.subplots(len(y_columns), 1, figsize=(8, 6 * len(y_columns)), sharex=True, gridspec_kw={'hspace': 0})\n",
    "        hori= 0.25\n",
    "        for i, col in enumerate(y_columns):\n",
    "            axs[i].plot(self.data[x_column], self.data[col], label=col)\n",
    "            axs[i].set_title('')  # Clear subplot title\n",
    "            axs[0].set_title(self.file_path)  # Clear subplot title\n",
    "            axs[i].set_xlabel('')  # Clear x-label for all subplots\n",
    "            axs[i].set_ylabel(col, fontsize=font_size)  # Set ylabel to the column name with custom font size\n",
    "            axs[i].tick_params(axis='y', labelsize=font_size)\n",
    "            axs[i].legend(fontsize=font_size)\n",
    "\n",
    "            if i < len(y_columns) - 1:\n",
    "                axs[i].get_xaxis().set_visible(False)  # Hide x-axis for all except the last subplot\n",
    "\n",
    "        axs[-1].set_xlabel(x_label, fontsize=font_size)  # Set x-label only for the last subplot\n",
    "        axs[0].set_title(self.file_path)  # Clear subplot title\n",
    "\n",
    "        # Hide top and right spines and ticks for all subplots except the bottom one\n",
    "        for ax in axs[:-1]:\n",
    "            ax.spines['bottom'].set_visible(False)\n",
    "            ax.xaxis.set_ticks_position('none')\n",
    "\n",
    "        # Set font sizes for tick labels\n",
    "        plt.xticks(fontsize=font_size)\n",
    "        plt.yticks(fontsize=font_size)\n",
    "\n",
    "        plt.tight_layout()\n",
    "        plt.show()\n",
    "\n",
    "# Create an instance of CSVPlotter with the converted file path\n",
    "converted_string = double_backslashes(r\"C:\\Users\\nares\\Downloads\\240219\\240219_181718.csv\")\n",
    "csv_plotter = CSVPlotter(converted_string)\n",
    "\n",
    "# Call the plot_data method to generate the graph\n",
    "csv_plotter.plot_data(x_column='time(s)', y_columns=['BD','SD','PZT'], plot_type='line', title='CSV Data Plot', x_label='Time (s)', y_label='Y-axis', font_size=24)\n"
   ],
   "outputs": [
    {
     "name": "stdout",
     "output_type": "stream",
     "text": [
      "File not found. Please provide a valid file path.\n"
     ]
    },
    {
     "ename": "TypeError",
     "evalue": "'NoneType' object is not subscriptable",
     "output_type": "error",
     "traceback": [
      "\u001B[1;31m---------------------------------------------------------------------------\u001B[0m",
      "\u001B[1;31mTypeError\u001B[0m                                 Traceback (most recent call last)",
      "Cell \u001B[1;32mIn[2], line 59\u001B[0m\n\u001B[0;32m     56\u001B[0m csv_plotter \u001B[38;5;241m=\u001B[39m CSVPlotter(converted_string)\n\u001B[0;32m     58\u001B[0m \u001B[38;5;66;03m# Call the plot_data method to generate the graph\u001B[39;00m\n\u001B[1;32m---> 59\u001B[0m \u001B[43mcsv_plotter\u001B[49m\u001B[38;5;241;43m.\u001B[39;49m\u001B[43mplot_data\u001B[49m\u001B[43m(\u001B[49m\u001B[43mx_column\u001B[49m\u001B[38;5;241;43m=\u001B[39;49m\u001B[38;5;124;43m'\u001B[39;49m\u001B[38;5;124;43mtime(s)\u001B[39;49m\u001B[38;5;124;43m'\u001B[39;49m\u001B[43m,\u001B[49m\u001B[43m \u001B[49m\u001B[43my_columns\u001B[49m\u001B[38;5;241;43m=\u001B[39;49m\u001B[43m[\u001B[49m\u001B[38;5;124;43m'\u001B[39;49m\u001B[38;5;124;43mBD\u001B[39;49m\u001B[38;5;124;43m'\u001B[39;49m\u001B[43m,\u001B[49m\u001B[38;5;124;43m'\u001B[39;49m\u001B[38;5;124;43mSD\u001B[39;49m\u001B[38;5;124;43m'\u001B[39;49m\u001B[43m,\u001B[49m\u001B[38;5;124;43m'\u001B[39;49m\u001B[38;5;124;43mPZT\u001B[39;49m\u001B[38;5;124;43m'\u001B[39;49m\u001B[43m]\u001B[49m\u001B[43m,\u001B[49m\u001B[43m \u001B[49m\u001B[43mplot_type\u001B[49m\u001B[38;5;241;43m=\u001B[39;49m\u001B[38;5;124;43m'\u001B[39;49m\u001B[38;5;124;43mline\u001B[39;49m\u001B[38;5;124;43m'\u001B[39;49m\u001B[43m,\u001B[49m\u001B[43m \u001B[49m\u001B[43mtitle\u001B[49m\u001B[38;5;241;43m=\u001B[39;49m\u001B[38;5;124;43m'\u001B[39;49m\u001B[38;5;124;43mCSV Data Plot\u001B[39;49m\u001B[38;5;124;43m'\u001B[39;49m\u001B[43m,\u001B[49m\u001B[43m \u001B[49m\u001B[43mx_label\u001B[49m\u001B[38;5;241;43m=\u001B[39;49m\u001B[38;5;124;43m'\u001B[39;49m\u001B[38;5;124;43mTime (s)\u001B[39;49m\u001B[38;5;124;43m'\u001B[39;49m\u001B[43m,\u001B[49m\u001B[43m \u001B[49m\u001B[43my_label\u001B[49m\u001B[38;5;241;43m=\u001B[39;49m\u001B[38;5;124;43m'\u001B[39;49m\u001B[38;5;124;43mY-axis\u001B[39;49m\u001B[38;5;124;43m'\u001B[39;49m\u001B[43m,\u001B[49m\u001B[43m \u001B[49m\u001B[43mfont_size\u001B[49m\u001B[38;5;241;43m=\u001B[39;49m\u001B[38;5;241;43m24\u001B[39;49m\u001B[43m)\u001B[49m\n",
      "Cell \u001B[1;32mIn[2], line 24\u001B[0m, in \u001B[0;36mCSVPlotter.plot_data\u001B[1;34m(self, x_column, y_columns, plot_type, title, x_label, y_label, font_size)\u001B[0m\n\u001B[0;32m     21\u001B[0m \u001B[38;5;28;01mif\u001B[39;00m \u001B[38;5;28mself\u001B[39m\u001B[38;5;241m.\u001B[39mdata \u001B[38;5;129;01mis\u001B[39;00m \u001B[38;5;28;01mNone\u001B[39;00m:\n\u001B[0;32m     22\u001B[0m     \u001B[38;5;28mself\u001B[39m\u001B[38;5;241m.\u001B[39mread_csv()\n\u001B[1;32m---> 24\u001B[0m \u001B[38;5;28mself\u001B[39m\u001B[38;5;241m.\u001B[39mdata[x_column] \u001B[38;5;241m=\u001B[39m (\u001B[38;5;28;43mself\u001B[39;49m\u001B[38;5;241;43m.\u001B[39;49m\u001B[43mdata\u001B[49m\u001B[43m[\u001B[49m\u001B[43mx_column\u001B[49m\u001B[43m]\u001B[49m) \u001B[38;5;241m/\u001B[39m \u001B[38;5;241m10\u001B[39m\n\u001B[0;32m     25\u001B[0m fig, axs \u001B[38;5;241m=\u001B[39m plt\u001B[38;5;241m.\u001B[39msubplots(\u001B[38;5;28mlen\u001B[39m(y_columns), \u001B[38;5;241m1\u001B[39m, figsize\u001B[38;5;241m=\u001B[39m(\u001B[38;5;241m8\u001B[39m, \u001B[38;5;241m6\u001B[39m \u001B[38;5;241m*\u001B[39m \u001B[38;5;28mlen\u001B[39m(y_columns)), sharex\u001B[38;5;241m=\u001B[39m\u001B[38;5;28;01mTrue\u001B[39;00m, gridspec_kw\u001B[38;5;241m=\u001B[39m{\u001B[38;5;124m'\u001B[39m\u001B[38;5;124mhspace\u001B[39m\u001B[38;5;124m'\u001B[39m: \u001B[38;5;241m0\u001B[39m})\n\u001B[0;32m     26\u001B[0m hori\u001B[38;5;241m=\u001B[39m \u001B[38;5;241m0.25\u001B[39m\n",
      "\u001B[1;31mTypeError\u001B[0m: 'NoneType' object is not subscriptable"
     ]
    }
   ],
   "execution_count": 2
  },
  {
   "cell_type": "code",
   "execution_count": null,
   "metadata": {},
   "outputs": [],
   "source": [
    "import os\n",
    "\n",
    "# Function to get a list of CSV files in a folder\n",
    "def get_csv_files(folder_path):\n",
    "    csv_files = []\n",
    "    for file in os.listdir(folder_path):\n",
    "        if file.endswith('.csv'):\n",
    "            csv_files.append(os.path.join(folder_path, file))\n",
    "    return csv_files\n",
    "\n",
    "# Get a list of CSV files in the folder\n",
    "folder_path = r\"C:/Users/nares/Downloads/240219\"\n",
    "csv_files = get_csv_files(folder_path)\n",
    "\n",
    "# Iterate over each CSV file and plot data\n",
    "for file_path in csv_files:\n",
    "    converted_string = double_backslashes(file_path)\n",
    "    csv_plotter = CSVPlotter(converted_string)\n",
    "    csv_plotter.plot_data(x_column='time(s)', y_columns=['BD','SD','PZT'], plot_type='line', title='CSV Data Plot', x_label='Time (s)', y_label='Y-axis', font_size=24)\n"
   ]
  }
 ],
 "metadata": {
  "kernelspec": {
   "display_name": "Python 3",
   "language": "python",
   "name": "python3"
  },
  "language_info": {
   "codemirror_mode": {
    "name": "ipython",
    "version": 3
   },
   "file_extension": ".py",
   "mimetype": "text/x-python",
   "name": "python",
   "nbconvert_exporter": "python",
   "pygments_lexer": "ipython3",
   "version": "3.11.8"
  }
 },
 "nbformat": 4,
 "nbformat_minor": 2
}
