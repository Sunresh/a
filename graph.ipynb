{
 "cells": [
  {
   "cell_type": "code",
   "execution_count": 1,
   "metadata": {},
   "outputs": [
    {
     "ename": "ModuleNotFoundError",
     "evalue": "No module named 'pandas'",
     "output_type": "error",
     "traceback": [
      "\u001b[1;31m---------------------------------------------------------------------------\u001b[0m",
      "\u001b[1;31mModuleNotFoundError\u001b[0m                       Traceback (most recent call last)",
      "Cell \u001b[1;32mIn[1], line 1\u001b[0m\n\u001b[1;32m----> 1\u001b[0m \u001b[38;5;28;01mimport\u001b[39;00m \u001b[38;5;21;01mpandas\u001b[39;00m \u001b[38;5;28;01mas\u001b[39;00m \u001b[38;5;21;01mpd\u001b[39;00m\n\u001b[0;32m      2\u001b[0m \u001b[38;5;28;01mimport\u001b[39;00m \u001b[38;5;21;01mmatplotlib\u001b[39;00m\u001b[38;5;21;01m.\u001b[39;00m\u001b[38;5;21;01mpyplot\u001b[39;00m \u001b[38;5;28;01mas\u001b[39;00m \u001b[38;5;21;01mplt\u001b[39;00m\n\u001b[0;32m      4\u001b[0m \u001b[38;5;66;03m# Define the double_backslashes function\u001b[39;00m\n",
      "\u001b[1;31mModuleNotFoundError\u001b[0m: No module named 'pandas'"
     ]
    }
   ],
   "source": [
    "import pandas as pd\n",
    "import matplotlib.pyplot as plt\n",
    "\n",
    "# Define the double_backslashes function\n",
    "def double_backslashes(input_string):\n",
    "    return input_string.replace('\\\\', '\\\\\\\\')\n",
    "\n",
    "# Define the CSVPlotter class\n",
    "class CSVPlotter:\n",
    "    def __init__(self, file_path):\n",
    "        self.file_path = file_path\n",
    "        self.data = None\n",
    "\n",
    "    def read_csv(self):\n",
    "        try:\n",
    "            self.data = pd.read_csv(self.file_path)\n",
    "        except FileNotFoundError:\n",
    "            print(\"File not found. Please provide a valid file path.\")\n",
    "    \n",
    "    def plot_data(self, x_column, y_columns, plot_type='line', title='', x_label='', y_label='', font_size=24):\n",
    "        if self.data is None:\n",
    "            self.read_csv()\n",
    "\n",
    "        self.data[x_column] = (self.data[x_column]) / 10\n",
    "        fig, axs = plt.subplots(len(y_columns), 1, figsize=(8, 6 * len(y_columns)), sharex=True, gridspec_kw={'hspace': 0})\n",
    "        hori= 0.25\n",
    "        for i, col in enumerate(y_columns):\n",
    "            axs[i].plot(self.data[x_column], self.data[col], label=col)\n",
    "            axs[i].set_title('')  # Clear subplot title\n",
    "            axs[0].set_title(self.file_path)  # Clear subplot title\n",
    "            axs[i].set_xlabel('')  # Clear x-label for all subplots\n",
    "            axs[i].set_ylabel(col, fontsize=font_size)  # Set ylabel to the column name with custom font size\n",
    "            axs[i].tick_params(axis='y', labelsize=font_size)\n",
    "            axs[i].legend(fontsize=font_size)\n",
    "\n",
    "            if i < len(y_columns) - 1:\n",
    "                axs[i].get_xaxis().set_visible(False)  # Hide x-axis for all except the last subplot\n",
    "\n",
    "        axs[-1].set_xlabel(x_label, fontsize=font_size)  # Set x-label only for the last subplot\n",
    "        axs[0].set_title(self.file_path)  # Clear subplot title\n",
    "\n",
    "        # Hide top and right spines and ticks for all subplots except the bottom one\n",
    "        for ax in axs[:-1]:\n",
    "            ax.spines['bottom'].set_visible(False)\n",
    "            ax.xaxis.set_ticks_position('none')\n",
    "\n",
    "        # Set font sizes for tick labels\n",
    "        plt.xticks(fontsize=font_size)\n",
    "        plt.yticks(fontsize=font_size)\n",
    "\n",
    "        plt.tight_layout()\n",
    "        plt.show()\n",
    "\n",
    "# Create an instance of CSVPlotter with the converted file path\n",
    "converted_string = double_backslashes(r\"C:\\Users\\nares\\Downloads\\240219\\240219_181718.csv\")\n",
    "csv_plotter = CSVPlotter(converted_string)\n",
    "\n",
    "# Call the plot_data method to generate the graph\n",
    "csv_plotter.plot_data(x_column='time(s)', y_columns=['BD','SD','PZT'], plot_type='line', title='CSV Data Plot', x_label='Time (s)', y_label='Y-axis', font_size=24)\n"
   ]
  },
  {
   "cell_type": "code",
   "execution_count": null,
   "metadata": {},
   "outputs": [],
   "source": [
    "import os\n",
    "\n",
    "# Function to get a list of CSV files in a folder\n",
    "def get_csv_files(folder_path):\n",
    "    csv_files = []\n",
    "    for file in os.listdir(folder_path):\n",
    "        if file.endswith('.csv'):\n",
    "            csv_files.append(os.path.join(folder_path, file))\n",
    "    return csv_files\n",
    "\n",
    "# Get a list of CSV files in the folder\n",
    "folder_path = r\"C:/Users/nares/Downloads/240219\"\n",
    "csv_files = get_csv_files(folder_path)\n",
    "\n",
    "# Iterate over each CSV file and plot data\n",
    "for file_path in csv_files:\n",
    "    converted_string = double_backslashes(file_path)\n",
    "    csv_plotter = CSVPlotter(converted_string)\n",
    "    csv_plotter.plot_data(x_column='time(s)', y_columns=['BD','SD','PZT'], plot_type='line', title='CSV Data Plot', x_label='Time (s)', y_label='Y-axis', font_size=24)\n"
   ]
  }
 ],
 "metadata": {
  "kernelspec": {
   "display_name": "Python 3",
   "language": "python",
   "name": "python3"
  },
  "language_info": {
   "codemirror_mode": {
    "name": "ipython",
    "version": 3
   },
   "file_extension": ".py",
   "mimetype": "text/x-python",
   "name": "python",
   "nbconvert_exporter": "python",
   "pygments_lexer": "ipython3",
   "version": "3.12.7"
  }
 },
 "nbformat": 4,
 "nbformat_minor": 2
}
