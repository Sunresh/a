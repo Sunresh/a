{
 "cells": [
  {
   "cell_type": "code",
   "execution_count": null,
   "metadata": {},
   "outputs": [],
   "source": [
    "import pandas as pd\n",
    "import matplotlib.pyplot as plt\n",
    "\n",
    "# Define the double_backslashes function\n",
    "def double_backslashes(input_string):\n",
    "    return input_string.replace('\\\\', '\\\\\\\\')\n",
    "\n",
    "# Define the CSVPlotter class\n",
    "class CSVPlotter:\n",
    "    def __init__(self, file_path):\n",
    "        self.file_path = file_path\n",
    "        self.data = None\n",
    "\n",
    "    def read_csv(self):\n",
    "        try:\n",
    "            self.data = pd.read_csv(self.file_path)\n",
    "        except FileNotFoundError:\n",
    "            print(\"File not found. Please provide a valid file path.\")\n",
    "    \n",
    "    def plot_data(self, plot_type='line', title='', x_label='', y_label='', font_size=24):\n",
    "        if self.data is None:\n",
    "            self.read_csv()\n",
    "\n",
    "        fig, ax = plt.subplots(figsize=(12, 8))\n",
    "\n",
    "        x_column = self.data.columns[0]  # First column as x-axis\n",
    "        for column in self.data.columns[1:]:  # Skip the first column\n",
    "            ax.plot(self.data[x_column], self.data[column], label=column)\n",
    "\n",
    "        ax.set_xlabel(x_label or 'Index', fontsize=font_size)\n",
    "        ax.set_ylabel(y_label or 'Value', fontsize=font_size)\n",
    "        ax.set_title(title or self.file_path, fontsize=font_size)\n",
    "        ax.tick_params(axis='both', which='major', labelsize=font_size)\n",
    "        ax.legend(fontsize=font_size-4)\n",
    "\n",
    "        plt.tight_layout()\n",
    "        plt.show()\n",
    "\n",
    "# Create an instance of CSVPlotter with the converted file path\n",
    "converted_string = double_backslashes(r\"C:\\Users\\naresh\\OneDrive - Shizuoka University\\LAB\\graphs\\bin\\bin\\20230913_161528_voltage.csv\")\n",
    "csv_plotter = CSVPlotter(converted_string)\n",
    "\n",
    "# Call the plot_data method to generate the graph\n",
    "csv_plotter.plot_data(plot_type='line', title='CSV Data Plot', x_label='Index', y_label='Value', font_size=24)"
   ]
  },
  {
   "cell_type": "code",
   "execution_count": null,
   "metadata": {},
   "outputs": [],
   "source": [
    "import os\n",
    "\n",
    "# Function to get a list of CSV files in a folder\n",
    "def get_csv_files(folder_path):\n",
    "    csv_files = []\n",
    "    for file in os.listdir(folder_path):\n",
    "        if file.endswith('.csv'):\n",
    "            csv_files.append(os.path.join(folder_path, file))\n",
    "    return csv_files\n",
    "\n",
    "# Get a list of CSV files in the folder\n",
    "folder_path = r\"C:\\Users\\naresh\\OneDrive - Shizuoka University\\LAB\\graphs\\bin\\bin\"\n",
    "csv_files = get_csv_files(folder_path)\n",
    "\n",
    "# Iterate over each CSV file and plot data\n",
    "for file_path in csv_files:\n",
    "    converted_string = double_backslashes(file_path)\n",
    "    csv_plotter = CSVPlotter(converted_string)\n",
    "    csv_plotter.plot_data(plot_type='line', title='CSV Data Plot', x_label='Time (s)', y_label='Y-axis', font_size=24)\n"
   ]
  }
 ],
 "metadata": {
  "kernelspec": {
   "display_name": "Python 3",
   "language": "python",
   "name": "python3"
  },
  "language_info": {
   "codemirror_mode": {
    "name": "ipython",
    "version": 3
   },
   "file_extension": ".py",
   "mimetype": "text/x-python",
   "name": "python",
   "nbconvert_exporter": "python",
   "pygments_lexer": "ipython3",
   "version": "3.12.7"
  }
 },
 "nbformat": 4,
 "nbformat_minor": 2
}
